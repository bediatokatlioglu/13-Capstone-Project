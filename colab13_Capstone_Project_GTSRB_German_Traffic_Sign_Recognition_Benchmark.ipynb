{
  "cells": [
    {
      "cell_type": "markdown",
      "id": "fc61c621",
      "metadata": {
        "id": "fc61c621"
      },
      "source": [
        "# GTSRB - Alman Trafik İşareti Tanıma"
      ]
    },
    {
      "cell_type": "markdown",
      "id": "2625ed29",
      "metadata": {
        "id": "2625ed29"
      },
      "source": [
        "Tabii ki, projenin daha detaylı adımlarını açıklamak istiyorum:\n",
        "\n",
        "1. **Veri Kümelerini Anlama:**\n",
        "   - Kaggle'daki Alman Trafik İşareti veri kümesini ziyaret edin (https://www.kaggle.com/datasets/meowmeowmeowmeowmeow/gtsrb-german-traffic-sign) ve içeriğini inceleyin.\n",
        "   - Veri kümesindeki trafik işareti sınıflarını ve her bir sınıfa ait görüntü sayısını kontrol edin.\n",
        "\n",
        "2. **Veriyi İnceleme ve Ön İşleme:**\n",
        "   - Veri kümesini indirin ve açın. Görüntülerin ve etiketlerin nasıl yapılandırıldığını anlayın.\n",
        "   - Görüntülerin boyutlarını ve renk kanallarını kontrol edin.\n",
        "   - Görüntülerdeki gürültüyü azaltmak için gerektiğinde boyut değiştirme, normalizasyon veya dönüştürme gibi ön işleme adımları uygulayın.\n",
        "   - Etiketleri sayısal hale getirin (örneğin, sınıf numaralarına dönüştürün).\n",
        "\n",
        "3. **Model Seçimi ve Eğitimi:**\n",
        "   - Derin öğrenme modeli seçin, örneğin evrişimli sinir ağları (CNN) sıklıkla trafik işareti tanıma görevleri için kullanılır.\n",
        "   - Model mimarisini belirleyin: Giriş katmanı, evrişim katmanları, tam bağlantılı katmanlar ve çıkış katmanı.\n",
        "   - Veriyi eğitim ve doğrulama kümelerine ayırarak modeli eğitin. Bu overfitting'i önlemek için önemlidir.\n",
        "   - Eğitim sırasında kayıp fonksiyonu ve optimize edici seçimi yapın.\n",
        "\n",
        "4. **Model Değerlendirmesi:**\n",
        "   - Eğitilmiş modeli doğrulama verileri üzerinde değerlendirin.\n",
        "   - Farklı sınıflar için doğruluk, kesinlik, hassasiyet gibi sınıflandırma metriklerini hesaplayın.\n",
        "   - Modelin aşırı uyum (overfitting) yapmadığından emin olun.\n",
        "\n",
        "5. **Web Sitesi veya Mobil Uygulama Geliştirme:**\n",
        "   - Modeli kullanıcı dostu bir web sitesi veya mobil uygulama içinde entegre edin.\n",
        "   - Kullanıcıların trafik işaretlerini yükleyebilmesi veya kameralarını kullanarak işaretleri yakalayabilmesi için bir arayüz tasarlayın.\n",
        "\n",
        "6. **Görsel Girişi İşleme:**\n",
        "   - Kullanıcı tarafından sağlanan görseli modelin anlayabileceği şekilde işleyin.\n",
        "   - Görseli modele beslemek için genellikle boyut değiştirme, normalizasyon ve piksel değerlerini uygun şekilde düzenleme adımlarını içerir.\n",
        "\n",
        "7. **Tahmin Yapma:**\n",
        "   - İşlenmiş görseli modelde çalıştırın ve çıktıyı tahmin edin.\n",
        "   - Modelin tahminlerini çıktı olarak alın ve hangi trafik işaretinin olabileceğini belirleyin.\n",
        "\n",
        "8. **Sonuçları Gösterme:**\n",
        "   - Modelin tahminlerini kullanıcıya göstermek için anlaşılır bir şekilde tasarlanmış bir arayüz oluşturun.\n",
        "   - Tahmin edilen trafik işareti sınıfını ve modelin tahmininin güven düzeyini (örneğin olasılık değeri) sunun.\n",
        "\n",
        "9. **Projeyi Dağıtma:**\n",
        "   - Geliştirdiğiniz web sitesini veya mobil uygulamayı halka açık bir sunucuda veya uygulama mağazasında yayınlayarak genel kullanıcıların erişimine sunun.\n",
        "\n",
        "Bu adımları takip ederek, Alman trafik işaretlerini tanıyan bir model oluşturabilir ve kullanıcıların gerçek dünyada işaretleri tahmin etmelerine yardımcı olacak bir uygulama veya web sitesi geliştirebilirsiniz."
      ]
    },
    {
      "cell_type": "code",
      "execution_count": 1,
      "id": "8c8998f6",
      "metadata": {
        "colab": {
          "base_uri": "https://localhost:8080/",
          "height": 73
        },
        "id": "8c8998f6",
        "outputId": "003ea08e-f84c-4520-8e8d-23f207de63d9"
      },
      "outputs": [
        {
          "output_type": "display_data",
          "data": {
            "text/plain": [
              "<IPython.core.display.HTML object>"
            ],
            "text/html": [
              "\n",
              "     <input type=\"file\" id=\"files-1a813238-c069-4ba4-adcb-d10063f6fa1b\" name=\"files[]\" multiple disabled\n",
              "        style=\"border:none\" />\n",
              "     <output id=\"result-1a813238-c069-4ba4-adcb-d10063f6fa1b\">\n",
              "      Upload widget is only available when the cell has been executed in the\n",
              "      current browser session. Please rerun this cell to enable.\n",
              "      </output>\n",
              "      <script>// Copyright 2017 Google LLC\n",
              "//\n",
              "// Licensed under the Apache License, Version 2.0 (the \"License\");\n",
              "// you may not use this file except in compliance with the License.\n",
              "// You may obtain a copy of the License at\n",
              "//\n",
              "//      http://www.apache.org/licenses/LICENSE-2.0\n",
              "//\n",
              "// Unless required by applicable law or agreed to in writing, software\n",
              "// distributed under the License is distributed on an \"AS IS\" BASIS,\n",
              "// WITHOUT WARRANTIES OR CONDITIONS OF ANY KIND, either express or implied.\n",
              "// See the License for the specific language governing permissions and\n",
              "// limitations under the License.\n",
              "\n",
              "/**\n",
              " * @fileoverview Helpers for google.colab Python module.\n",
              " */\n",
              "(function(scope) {\n",
              "function span(text, styleAttributes = {}) {\n",
              "  const element = document.createElement('span');\n",
              "  element.textContent = text;\n",
              "  for (const key of Object.keys(styleAttributes)) {\n",
              "    element.style[key] = styleAttributes[key];\n",
              "  }\n",
              "  return element;\n",
              "}\n",
              "\n",
              "// Max number of bytes which will be uploaded at a time.\n",
              "const MAX_PAYLOAD_SIZE = 100 * 1024;\n",
              "\n",
              "function _uploadFiles(inputId, outputId) {\n",
              "  const steps = uploadFilesStep(inputId, outputId);\n",
              "  const outputElement = document.getElementById(outputId);\n",
              "  // Cache steps on the outputElement to make it available for the next call\n",
              "  // to uploadFilesContinue from Python.\n",
              "  outputElement.steps = steps;\n",
              "\n",
              "  return _uploadFilesContinue(outputId);\n",
              "}\n",
              "\n",
              "// This is roughly an async generator (not supported in the browser yet),\n",
              "// where there are multiple asynchronous steps and the Python side is going\n",
              "// to poll for completion of each step.\n",
              "// This uses a Promise to block the python side on completion of each step,\n",
              "// then passes the result of the previous step as the input to the next step.\n",
              "function _uploadFilesContinue(outputId) {\n",
              "  const outputElement = document.getElementById(outputId);\n",
              "  const steps = outputElement.steps;\n",
              "\n",
              "  const next = steps.next(outputElement.lastPromiseValue);\n",
              "  return Promise.resolve(next.value.promise).then((value) => {\n",
              "    // Cache the last promise value to make it available to the next\n",
              "    // step of the generator.\n",
              "    outputElement.lastPromiseValue = value;\n",
              "    return next.value.response;\n",
              "  });\n",
              "}\n",
              "\n",
              "/**\n",
              " * Generator function which is called between each async step of the upload\n",
              " * process.\n",
              " * @param {string} inputId Element ID of the input file picker element.\n",
              " * @param {string} outputId Element ID of the output display.\n",
              " * @return {!Iterable<!Object>} Iterable of next steps.\n",
              " */\n",
              "function* uploadFilesStep(inputId, outputId) {\n",
              "  const inputElement = document.getElementById(inputId);\n",
              "  inputElement.disabled = false;\n",
              "\n",
              "  const outputElement = document.getElementById(outputId);\n",
              "  outputElement.innerHTML = '';\n",
              "\n",
              "  const pickedPromise = new Promise((resolve) => {\n",
              "    inputElement.addEventListener('change', (e) => {\n",
              "      resolve(e.target.files);\n",
              "    });\n",
              "  });\n",
              "\n",
              "  const cancel = document.createElement('button');\n",
              "  inputElement.parentElement.appendChild(cancel);\n",
              "  cancel.textContent = 'Cancel upload';\n",
              "  const cancelPromise = new Promise((resolve) => {\n",
              "    cancel.onclick = () => {\n",
              "      resolve(null);\n",
              "    };\n",
              "  });\n",
              "\n",
              "  // Wait for the user to pick the files.\n",
              "  const files = yield {\n",
              "    promise: Promise.race([pickedPromise, cancelPromise]),\n",
              "    response: {\n",
              "      action: 'starting',\n",
              "    }\n",
              "  };\n",
              "\n",
              "  cancel.remove();\n",
              "\n",
              "  // Disable the input element since further picks are not allowed.\n",
              "  inputElement.disabled = true;\n",
              "\n",
              "  if (!files) {\n",
              "    return {\n",
              "      response: {\n",
              "        action: 'complete',\n",
              "      }\n",
              "    };\n",
              "  }\n",
              "\n",
              "  for (const file of files) {\n",
              "    const li = document.createElement('li');\n",
              "    li.append(span(file.name, {fontWeight: 'bold'}));\n",
              "    li.append(span(\n",
              "        `(${file.type || 'n/a'}) - ${file.size} bytes, ` +\n",
              "        `last modified: ${\n",
              "            file.lastModifiedDate ? file.lastModifiedDate.toLocaleDateString() :\n",
              "                                    'n/a'} - `));\n",
              "    const percent = span('0% done');\n",
              "    li.appendChild(percent);\n",
              "\n",
              "    outputElement.appendChild(li);\n",
              "\n",
              "    const fileDataPromise = new Promise((resolve) => {\n",
              "      const reader = new FileReader();\n",
              "      reader.onload = (e) => {\n",
              "        resolve(e.target.result);\n",
              "      };\n",
              "      reader.readAsArrayBuffer(file);\n",
              "    });\n",
              "    // Wait for the data to be ready.\n",
              "    let fileData = yield {\n",
              "      promise: fileDataPromise,\n",
              "      response: {\n",
              "        action: 'continue',\n",
              "      }\n",
              "    };\n",
              "\n",
              "    // Use a chunked sending to avoid message size limits. See b/62115660.\n",
              "    let position = 0;\n",
              "    do {\n",
              "      const length = Math.min(fileData.byteLength - position, MAX_PAYLOAD_SIZE);\n",
              "      const chunk = new Uint8Array(fileData, position, length);\n",
              "      position += length;\n",
              "\n",
              "      const base64 = btoa(String.fromCharCode.apply(null, chunk));\n",
              "      yield {\n",
              "        response: {\n",
              "          action: 'append',\n",
              "          file: file.name,\n",
              "          data: base64,\n",
              "        },\n",
              "      };\n",
              "\n",
              "      let percentDone = fileData.byteLength === 0 ?\n",
              "          100 :\n",
              "          Math.round((position / fileData.byteLength) * 100);\n",
              "      percent.textContent = `${percentDone}% done`;\n",
              "\n",
              "    } while (position < fileData.byteLength);\n",
              "  }\n",
              "\n",
              "  // All done.\n",
              "  yield {\n",
              "    response: {\n",
              "      action: 'complete',\n",
              "    }\n",
              "  };\n",
              "}\n",
              "\n",
              "scope.google = scope.google || {};\n",
              "scope.google.colab = scope.google.colab || {};\n",
              "scope.google.colab._files = {\n",
              "  _uploadFiles,\n",
              "  _uploadFilesContinue,\n",
              "};\n",
              "})(self);\n",
              "</script> "
            ]
          },
          "metadata": {}
        },
        {
          "output_type": "stream",
          "name": "stdout",
          "text": [
            "Saving kaggle.json to kaggle.json\n"
          ]
        }
      ],
      "source": [
        "from google.colab import files\n",
        "\n",
        "# Kaggle API belirteci dosyasını yükleyin\n",
        "uploaded = files.upload()\n",
        "\n",
        "# API anahtarını doğru konuma taşıyın\n",
        "import os\n",
        "os.makedirs(\"/root/.kaggle\", exist_ok=True)\n",
        "os.rename(\"kaggle.json\", \"/root/.kaggle/kaggle.json\")\n",
        "os.chmod(\"/root/.kaggle/kaggle.json\", 600)"
      ]
    },
    {
      "cell_type": "code",
      "source": [
        "# Kaggle API kullanarak veriyi indirme\n",
        "!kaggle datasets download -d meowmeowmeowmeowmeow/gtsrb-german-traffic-sign\n",
        "\n",
        "# İndirilen ZIP dosyasının adı\n",
        "zip_file_name = 'gtsrb-german-traffic-sign.zip'\n",
        "\n",
        "# Çıkartma hedef klasörü\n",
        "extracted_folder = 'german_traffic_signs_data'\n",
        "\n",
        "# ZIP dosyasını çıkartma\n",
        "with zipfile.ZipFile(zip_file_name, 'r') as zip_ref:\n",
        "    zip_ref.extractall(extracted_folder)\n",
        "\n",
        "# Çıkartılan dosyaları listeleme\n",
        "extracted_files = os.listdir(extracted_folder)\n",
        "print(\"Çıkartılan dosyalar:\")\n",
        "for file in extracted_files:\n",
        "    print(file)"
      ],
      "metadata": {
        "colab": {
          "base_uri": "https://localhost:8080/"
        },
        "id": "5dux_aSyR__N",
        "outputId": "4ab7510a-ca23-4ab2-da2f-4d76a6bf5571"
      },
      "id": "5dux_aSyR__N",
      "execution_count": 3,
      "outputs": [
        {
          "output_type": "stream",
          "name": "stdout",
          "text": [
            "Downloading gtsrb-german-traffic-sign.zip to /content\n",
            "100% 610M/612M [00:25<00:00, 32.2MB/s]\n",
            "100% 612M/612M [00:25<00:00, 25.2MB/s]\n",
            "Çıkartılan dosyalar:\n",
            "train\n",
            "Train.csv\n",
            "Test\n",
            "Test.csv\n",
            "Meta.csv\n",
            "meta\n",
            "Train\n",
            "Meta\n",
            "test\n"
          ]
        }
      ]
    },
    {
      "cell_type": "code",
      "source": [
        "!dir german_traffic_signs_data"
      ],
      "metadata": {
        "colab": {
          "base_uri": "https://localhost:8080/"
        },
        "id": "zHZu_Li5SZ2P",
        "outputId": "b4e241c9-4f70-4498-cccf-89f3c66cfb09"
      },
      "id": "zHZu_Li5SZ2P",
      "execution_count": 4,
      "outputs": [
        {
          "output_type": "stream",
          "name": "stdout",
          "text": [
            "meta  Meta  Meta.csv  test  Test  Test.csv  train  Train  Train.csv\n"
          ]
        }
      ]
    },
    {
      "cell_type": "code",
      "source": [],
      "metadata": {
        "id": "eH4FSmGQTeYR"
      },
      "id": "eH4FSmGQTeYR",
      "execution_count": null,
      "outputs": []
    }
  ],
  "metadata": {
    "kernelspec": {
      "display_name": "Python 3 (ipykernel)",
      "language": "python",
      "name": "python3"
    },
    "language_info": {
      "codemirror_mode": {
        "name": "ipython",
        "version": 3
      },
      "file_extension": ".py",
      "mimetype": "text/x-python",
      "name": "python",
      "nbconvert_exporter": "python",
      "pygments_lexer": "ipython3",
      "version": "3.10.9"
    },
    "colab": {
      "provenance": []
    }
  },
  "nbformat": 4,
  "nbformat_minor": 5
}